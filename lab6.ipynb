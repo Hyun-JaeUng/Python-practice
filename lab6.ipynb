{
 "cells": [
  {
   "cell_type": "code",
   "execution_count": 31,
   "metadata": {},
   "outputs": [],
   "source": [
    "# 파이썬 기반의 동적 수집 실습(2)\n",
    "\n",
    "from selenium import webdriver\n",
    "import time\n",
    "\n",
    "driver = webdriver.Chrome('C:/Temp/chromedriver')\n",
    "driver.implicitly_wait(3) \n",
    "driver.get('https://hotel.naver.com/hotels/item?hotelId=hotel:Shilla_Stay_Yeoksam&destination_kor=%EC%8B%A0%EB%9D%BC%EC%8A%A4%ED%85%8C%EC%9D%B4%20%EC%97%AD%EC%82%BC&rooms=2')\n",
    "time.sleep(3)\n",
    "\n",
    "# 트립 어드바이저 클릭\n",
    "trip = driver.find_element_by_css_selector(\"body > div > div > div.container.ng-scope > div.content > div.hotel_used_review.ng-isolate-scope > ul > li.ng-scope.item_ta > a\")\n",
    "trip.click()"
   ]
  },
  {
   "cell_type": "code",
   "execution_count": null,
   "metadata": {},
   "outputs": [],
   "source": [
    "review_list = []\n",
    "\n",
    "while True:\n",
    "    # 긴 댓글 더보기 클릭\n",
    "    more = driver.find_elements_by_css_selector('.txt.ng-binding.ellips')\n",
    "    for i in more:\n",
    "        i.click()\n",
    "        time.sleep(1)\n",
    "        \n",
    "    review = driver.find_elements_by_css_selector('div.review_desc > p')\n",
    "    for rDom in review:\n",
    "        review_list.append(rDom.text)\n",
    "\n",
    "    nextbt = driver.find_elements_by_css_selector('body > div > div > div.container.ng-scope > div.content > div.hotel_used_review.ng-isolate-scope > div.review_ta.ng-scope > div.paginate > a.direction.next')\n",
    "    nextbt[0].click()\n",
    "    \n",
    "    review2 = driver.find_elements_by_css_selector('div.review_desc > p')\n",
    "    if review == review2:\n",
    "        break\n",
    "\n",
    "# print(review_list)"
   ]
  },
  {
   "cell_type": "code",
   "execution_count": 29,
   "metadata": {},
   "outputs": [],
   "source": [
    "# 파일 저장\n",
    "wfile = open(\"output/naverhotel.txt\", \"w\", encoding='utf-8')\n",
    "wfile.writelines(review_list)\n",
    "wfile.close()\n",
    "\n",
    "driver.quit()"
   ]
  },
  {
   "cell_type": "markdown",
   "metadata": {},
   "source": [
    "### 추가 메모\n",
    "\n",
    "##### 크롤링 끝나는 조건 설정 -> 효율적인 방법을 찾아야함\n",
    "##### ex) disabled 버튼에 생기는 것 이용"
   ]
  },
  {
   "cell_type": "code",
   "execution_count": null,
   "metadata": {},
   "outputs": [],
   "source": [
    "# disable 이용한 종료 조건 설정\n",
    "islast = driver.find_elements_by_css_selector('div.review_ta.ng-scope > div.paginate > a.direction.next.disabled')\n",
    "if not len(islast)==0:\n",
    "    break\n",
    "else:\n",
    "    next = driver.find_element_by_css_selector('div.review_ta.ng-scope > div.paginate > a.direction.next')\n",
    "    next.click()\n",
    "    time.sleep(2)\n",
    "    \n",
    "# 파일 저장 코드\n",
    "f = open(\"output/naverhotel.txt\",\"w\", encoding=\"utf-8\") \n",
    "f.write('\\n'.join(review_list)) \n",
    "f.close()"
   ]
  }
 ],
 "metadata": {
  "kernelspec": {
   "display_name": "pydatavenv",
   "language": "python",
   "name": "pydatavenv"
  },
  "language_info": {
   "codemirror_mode": {
    "name": "ipython",
    "version": 3
   },
   "file_extension": ".py",
   "mimetype": "text/x-python",
   "name": "python",
   "nbconvert_exporter": "python",
   "pygments_lexer": "ipython3",
   "version": "3.8.8"
  }
 },
 "nbformat": 4,
 "nbformat_minor": 4
}
