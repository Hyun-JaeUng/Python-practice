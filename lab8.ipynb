{
 "cells": [
  {
   "cell_type": "code",
   "execution_count": 33,
   "metadata": {},
   "outputs": [],
   "source": [
    "# 파이썬 기반의 SNS Open API 수집 실습\n",
    "# 네이버 검색 오픈 API 활용\n",
    "import urllib.request\n",
    "from bs4 import BeautifulSoup\n",
    "import json\n",
    "\n",
    "client_id = '0LHQM4VX_MQM6JfkXofa' # 발급 키 (따로 요청)\n",
    "client_secret = 'OcPgqpswCg'\n",
    "\n",
    "# 함수 생성\n",
    "def naver_search(keyword, callType = 'JSON'):\n",
    "    query = urllib.parse.quote_plus(keyword) # 쿼리 -> 검색을 원하는 문자열\n",
    "    if callType == 'JSON':\n",
    "        req_type = 'json'\n",
    "    elif callType == 'XML':\n",
    "        req_type = 'xml'\n",
    "    \n",
    "    url = 'https://openapi.naver.com/v1/search/local.' + str(req_type) + '?query=' + str(query) + '&display=5'\n",
    "    # url 안에 요청 타입과 인코딩된 query 문자열 +  & 뒤에 추가적인 요청 변수 넣었음.\n",
    "    # 최대 5개 결과 가져옴 (display = 5)\n",
    "    \n",
    "    request = urllib.request.Request(url)\n",
    "    request.add_header(\"X-Naver-Client-Id\", client_id) # 헤더 정보 추가\n",
    "    request.add_header(\"X-Naver-Client-Secret\", client_secret)\n",
    "    response = urllib.request.urlopen(request)\n",
    "    rescode = response.getcode() # 성공 시 200 저장됨\n",
    "    \n",
    "    if rescode == 200:\n",
    "        # json 형식 시  \n",
    "        if req_type == 'json':\n",
    "            response_body = response.read()\n",
    "            dataList = json.loads(response_body)\n",
    "            count = 1\n",
    "            print('[' + keyword + '집에 대한 네이버 지역 정보 (JSON)]')\n",
    "            for i in dataList['items']:\n",
    "                print(str(count) + ' : ' + i['title'] + ',' + i['address'])\n",
    "                count += 1\n",
    "        \n",
    "        # XML 형식 시\n",
    "        else:\n",
    "            bs = BeautifulSoup(response.read().decode('utf-8'), 'xml')\n",
    "            count = 1\n",
    "            print('[' + keyword + '집에 대한 네이버 지역 정보 (XML)]')\n",
    "            for i in bs.find_all('item'):\n",
    "                title = i.find('title').string\n",
    "                address = i.find('address').string\n",
    "                print(str(count) + ' : ' + title + ',' + address)\n",
    "                count += 1\n",
    "    else:\n",
    "        print('오류코드 : ' + rescode) "
   ]
  },
  {
   "cell_type": "markdown",
   "metadata": {},
   "source": [
    "##### urlopen() 함수를 사용하여 웹 서버에 페이지를 요청하고, 서버로부터 받은 응답을 저장하여 응답\n",
    "##### 객체 (http.client.HTTPResponse)를 반환\n"
   ]
  },
  {
   "cell_type": "code",
   "execution_count": 34,
   "metadata": {},
   "outputs": [
    {
     "name": "stdout",
     "output_type": "stream",
     "text": [
      "[짜장면집에 대한 네이버 지역 정보 (XML)]\n",
      "1 : 란주라미엔,서울특별시 중구 충무로1가 25-14\n",
      "2 : 개화,서울특별시 중구 명동2가 107-1\n",
      "3 : 딘타이펑 명동점,서울특별시 중구 명동1가 59-1\n",
      "4 : 몽중헌 페럼타워점,서울특별시 중구 수하동 66\n",
      "5 : 원흥,서울특별시 중구 다동 92\n"
     ]
    }
   ],
   "source": [
    "naver_search('짜장면', 'XML')"
   ]
  },
  {
   "cell_type": "code",
   "execution_count": 35,
   "metadata": {},
   "outputs": [
    {
     "name": "stdout",
     "output_type": "stream",
     "text": [
      "[쌀국수집에 대한 네이버 지역 정보 (JSON)]\n",
      "1 : 포하노이,서울특별시 종로구 청진동 70 B1\n",
      "2 : 호아빈 서울시청점,서울특별시 중구 서소문동 14-2\n",
      "3 : 미스사이공 명동,서울특별시 중구 명동2가 54-2\n",
      "4 : 반포식스 광화문점,서울특별시 종로구 신문로1가 239\n",
      "5 : 사이공,서울특별시 종로구 종로1가 24\n"
     ]
    }
   ],
   "source": [
    "naver_search('쌀국수')"
   ]
  }
 ],
 "metadata": {
  "kernelspec": {
   "display_name": "pydatavenv",
   "language": "python",
   "name": "pydatavenv"
  },
  "language_info": {
   "codemirror_mode": {
    "name": "ipython",
    "version": 3
   },
   "file_extension": ".py",
   "mimetype": "text/x-python",
   "name": "python",
   "nbconvert_exporter": "python",
   "pygments_lexer": "ipython3",
   "version": "3.8.8"
  }
 },
 "nbformat": 4,
 "nbformat_minor": 4
}
