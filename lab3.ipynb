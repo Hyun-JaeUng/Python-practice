{
 "cells": [
  {
   "cell_type": "code",
   "execution_count": 12,
   "metadata": {},
   "outputs": [],
   "source": [
    "# 파이썬 기반의 정적 수집 실습(3)\n",
    "# 다음 뉴스의 제목과 신문사명 스크래핑\n",
    "\n",
    "from bs4 import BeautifulSoup\n",
    "import requests\n",
    "import io\n",
    "\n",
    "newstitle = []\n",
    "newscomname = []\n",
    "\n",
    "req = requests.get('https://news.daum.net/ranking/popular/') # url get방식으로 요쳥\n",
    "req.encoding = \"utf-8\" # 한글 위해 인코딩\n",
    "bs = BeautifulSoup(req.text, 'html.parser') # 객체 생성\n",
    "titles = bs.select('#mArticle > div.rank_news strong > a')\n",
    "comname = bs.select('.info_news')\n",
    "\n",
    "for titleDom in titles:\n",
    "    newstitle.append(titleDom.string)\n",
    "for comDom in comname:\n",
    "    newscomname.append(comDom.text)\n",
    "    \n",
    "with open('output/news.csv', \"wt\", encoding=\"utf-8\") as f:\n",
    "    f.write('newstitle, newscomname\\n')  \n",
    "    for i in range(len(newstitle)):\n",
    "        f.write(newstitle[i]+\",\"+ newscomname[i]+'\\n')  "
   ]
  }
 ],
 "metadata": {
  "kernelspec": {
   "display_name": "pydatavenv",
   "language": "python",
   "name": "pydatavenv"
  },
  "language_info": {
   "codemirror_mode": {
    "name": "ipython",
    "version": 3
   },
   "file_extension": ".py",
   "mimetype": "text/x-python",
   "name": "python",
   "nbconvert_exporter": "python",
   "pygments_lexer": "ipython3",
   "version": "3.8.8"
  }
 },
 "nbformat": 4,
 "nbformat_minor": 4
}
