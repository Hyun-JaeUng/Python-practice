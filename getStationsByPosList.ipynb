{
 "cells": [
  {
   "cell_type": "code",
   "execution_count": 7,
   "metadata": {},
   "outputs": [],
   "source": [
    "import requests, xmltodict, json"
   ]
  },
  {
   "cell_type": "code",
   "execution_count": 44,
   "metadata": {},
   "outputs": [
    {
     "name": "stdout",
     "output_type": "stream",
     "text": [
      "113900018\n",
      "가든호텔.삼성프라자\n",
      "가든호텔.삼성프라자\n"
     ]
    }
   ],
   "source": [
    "tmX = 126.948847\n",
    "tmY = 37.539982\n",
    "radius = 200\n",
    "key = \"AT98N5LWRAir0I67tVgrf6Vfnio9LCMcwusSbOjmdkEpSOGyobdyAq9cb41G6O4pgTp6Jcmpv8e87bplMNY7tQ%3D%3D\"\n",
    "url = f'http://ws.bus.go.kr/api/rest/stationinfo/getStationByPos?ServiceKey={key}&tmX={tmX}&tmY={tmY}&radius={radius}'\n",
    " \n",
    "content = requests.get(url).content\n",
    "dict = xmltodict.parse(content)\n",
    "\n",
    "# 첫번째 정류장이라 설정 (음성으로 확인작업을 할 것인지 이후 결정해야 함)\n",
    "print(dict['ServiceResult']['msgBody']['itemList'][0]['stationId'])\n",
    "print(dict['ServiceResult']['msgBody']['itemList'][0]['stationNm'])\n",
    "\n",
    "jsonString = json.dumps(dict['ServiceResult']['msgBody']['itemList'][0]['stationNm'], ensure_ascii=False)\n",
    "jsonObj = json.loads(jsonString)\n",
    "print(jsonObj)"
   ]
  },
  {
   "cell_type": "markdown",
   "metadata": {},
   "source": []
  }
 ],
 "metadata": {
  "kernelspec": {
   "display_name": "pydatavenv",
   "language": "python",
   "name": "pydatavenv"
  },
  "language_info": {
   "codemirror_mode": {
    "name": "ipython",
    "version": 3
   },
   "file_extension": ".py",
   "mimetype": "text/x-python",
   "name": "python",
   "nbconvert_exporter": "python",
   "pygments_lexer": "ipython3",
   "version": "3.8.8"
  }
 },
 "nbformat": 4,
 "nbformat_minor": 4
}
