{
 "cells": [
  {
   "cell_type": "code",
   "execution_count": 6,
   "metadata": {},
   "outputs": [],
   "source": [
    "# 라이브러리\n",
    "import requests, xmltodict, json\n",
    "import pandas as pd"
   ]
  },
  {
   "cell_type": "markdown",
   "metadata": {},
   "source": [
    "### 1) 서울특별시_정류소정보조회 서비스  \n",
    "* 7_getStaionsByPosList 활용\n",
    "* **input: tmX, tmY, radius => output: stId, stationName, arsId**\n",
    "* https://www.data.go.kr/tcs/dss/selectApiDataDetailView.do?publicDataPk=15000303"
   ]
  },
  {
   "cell_type": "code",
   "execution_count": 7,
   "metadata": {},
   "outputs": [
    {
     "name": "stdout",
     "output_type": "stream",
     "text": [
      "113000001\n",
      "마포역\n",
      "14001\n"
     ]
    }
   ],
   "source": [
    "# 사용자의 위치를 받아서 tmX, tmY 변수에 지정.\n",
    "tmX = 126.948105\n",
    "tmY = 37.540897\n",
    "radius = 200 # 범위 (넓히면 여러 정류장 인식 됨.)\n",
    "\n",
    "key = \"AT98N5LWRAir0I67tVgrf6Vfnio9LCMcwusSbOjmdkEpSOGyobdyAq9cb41G6O4pgTp6Jcmpv8e87bplMNY7tQ%3D%3D\"\n",
    "url = f'http://ws.bus.go.kr/api/rest/stationinfo/getStationByPos?ServiceKey={key}&tmX={tmX}&tmY={tmY}&radius={radius}'\n",
    " \n",
    "content = requests.get(url).content\n",
    "dict = xmltodict.parse(content)\n",
    "\n",
    "# 첫번째 정류장이라 설정 (음성으로 \"현재 인식된 정류장은 A 정류장 입니다.\" 라고 전해주기)\n",
    "jsonString = json.dumps(dict['ServiceResult']['msgBody']['itemList'][0]['stationNm'], ensure_ascii=False)\n",
    "jsonObj = json.loads(jsonString)\n",
    "# print(jsonObj)\n",
    "\n",
    "# 향후 사용: 정류소 고유 번호, 정류소명 추출\n",
    "target_stId = int(dict['ServiceResult']['msgBody']['itemList'][0]['stationId'])\n",
    "target_stationName = str(dict['ServiceResult']['msgBody']['itemList'][0]['stationNm'])\n",
    "target_arsId = str(dict['ServiceResult']['msgBody']['itemList'][0]['arsId'])\n",
    "print(target_stId) # int\n",
    "print(target_stationName)\n",
    "print(target_arsId) # str"
   ]
  },
  {
   "cell_type": "markdown",
   "metadata": {},
   "source": [
    "### 2) Excel Data를 통해 원하는 데이터 추출\n",
    "* Excel Data: 1.busnumber_to_busRouteid , 2.stationName_to_ord \n",
    "* 다음 API 이용하는데 필요한 busRouteId, ord 추출하기 위함.\n",
    "* **문제: 정류소 ord가 2020.9.2 기준이므로 이후 변경된 노선은 결과값 출력이 안됨**"
   ]
  },
  {
   "cell_type": "code",
   "execution_count": 8,
   "metadata": {},
   "outputs": [
    {
     "data": {
      "text/html": [
       "<div>\n",
       "<style scoped>\n",
       "    .dataframe tbody tr th:only-of-type {\n",
       "        vertical-align: middle;\n",
       "    }\n",
       "\n",
       "    .dataframe tbody tr th {\n",
       "        vertical-align: top;\n",
       "    }\n",
       "\n",
       "    .dataframe thead th {\n",
       "        text-align: right;\n",
       "    }\n",
       "</style>\n",
       "<table border=\"1\" class=\"dataframe\">\n",
       "  <thead>\n",
       "    <tr style=\"text-align: right;\">\n",
       "      <th></th>\n",
       "      <th>busNumber</th>\n",
       "      <th>busRouteId</th>\n",
       "    </tr>\n",
       "  </thead>\n",
       "  <tbody>\n",
       "    <tr>\n",
       "      <th>0</th>\n",
       "      <td>0017</td>\n",
       "      <td>100100124</td>\n",
       "    </tr>\n",
       "    <tr>\n",
       "      <th>1</th>\n",
       "      <td>02</td>\n",
       "      <td>100100001</td>\n",
       "    </tr>\n",
       "    <tr>\n",
       "      <th>2</th>\n",
       "      <td>03</td>\n",
       "      <td>100100002</td>\n",
       "    </tr>\n",
       "    <tr>\n",
       "      <th>3</th>\n",
       "      <td>05</td>\n",
       "      <td>100100003</td>\n",
       "    </tr>\n",
       "    <tr>\n",
       "      <th>4</th>\n",
       "      <td>100</td>\n",
       "      <td>100100549</td>\n",
       "    </tr>\n",
       "  </tbody>\n",
       "</table>\n",
       "</div>"
      ],
      "text/plain": [
       "  busNumber  busRouteId\n",
       "0      0017   100100124\n",
       "1        02   100100001\n",
       "2        03   100100002\n",
       "3        05   100100003\n",
       "4       100   100100549"
      ]
     },
     "metadata": {},
     "output_type": "display_data"
    },
    {
     "data": {
      "text/html": [
       "<div>\n",
       "<style scoped>\n",
       "    .dataframe tbody tr th:only-of-type {\n",
       "        vertical-align: middle;\n",
       "    }\n",
       "\n",
       "    .dataframe tbody tr th {\n",
       "        vertical-align: top;\n",
       "    }\n",
       "\n",
       "    .dataframe thead th {\n",
       "        text-align: right;\n",
       "    }\n",
       "</style>\n",
       "<table border=\"1\" class=\"dataframe\">\n",
       "  <thead>\n",
       "    <tr style=\"text-align: right;\">\n",
       "      <th></th>\n",
       "      <th>busNumber</th>\n",
       "      <th>type</th>\n",
       "      <th>ord</th>\n",
       "      <th>stationName</th>\n",
       "      <th>stationNumber</th>\n",
       "    </tr>\n",
       "  </thead>\n",
       "  <tbody>\n",
       "    <tr>\n",
       "      <th>0</th>\n",
       "      <td>0017</td>\n",
       "      <td>지선</td>\n",
       "      <td>1</td>\n",
       "      <td>청암자이아파트</td>\n",
       "      <td>3689</td>\n",
       "    </tr>\n",
       "    <tr>\n",
       "      <th>1</th>\n",
       "      <td>0017</td>\n",
       "      <td>지선</td>\n",
       "      <td>2</td>\n",
       "      <td>청암동강변삼성아파트</td>\n",
       "      <td>3298</td>\n",
       "    </tr>\n",
       "    <tr>\n",
       "      <th>2</th>\n",
       "      <td>0017</td>\n",
       "      <td>지선</td>\n",
       "      <td>3</td>\n",
       "      <td>청심경로당</td>\n",
       "      <td>3321</td>\n",
       "    </tr>\n",
       "    <tr>\n",
       "      <th>3</th>\n",
       "      <td>0017</td>\n",
       "      <td>지선</td>\n",
       "      <td>4</td>\n",
       "      <td>원효2동주민센터</td>\n",
       "      <td>3304</td>\n",
       "    </tr>\n",
       "    <tr>\n",
       "      <th>4</th>\n",
       "      <td>0017</td>\n",
       "      <td>지선</td>\n",
       "      <td>5</td>\n",
       "      <td>산천동</td>\n",
       "      <td>3306</td>\n",
       "    </tr>\n",
       "  </tbody>\n",
       "</table>\n",
       "</div>"
      ],
      "text/plain": [
       "  busNumber type  ord stationName  stationNumber\n",
       "0      0017   지선    1     청암자이아파트           3689\n",
       "1      0017   지선    2  청암동강변삼성아파트           3298\n",
       "2      0017   지선    3       청심경로당           3321\n",
       "3      0017   지선    4    원효2동주민센터           3304\n",
       "4      0017   지선    5         산천동           3306"
      ]
     },
     "metadata": {},
     "output_type": "display_data"
    },
    {
     "name": "stdout",
     "output_type": "stream",
     "text": [
      "100100033\n",
      "78\n"
     ]
    }
   ],
   "source": [
    "data1 = pd.read_csv('data/busnumber_to_busRouteid.csv', encoding='utf-8')\n",
    "data2 = pd.read_csv('data/stationName_to_ord.csv', encoding='utf-8')\n",
    "display(data1.head())\n",
    "display(data2.head())\n",
    "\n",
    "# 음성인식을 통해 사용자가 160번 탄다고 가정했음.\n",
    "target_bus = '160' # str 형태로 해야됨. -> 엑셀이 str 형태\n",
    "\n",
    "# 조건에 맞는 버스 아이디 추출\n",
    "target_busRouteId = data1[data1['busNumber'] == target_bus].iloc[0]['busRouteId']\n",
    "print(target_busRouteId) # int\n",
    "\n",
    "# 조건에 맞는 ord 추출\n",
    "target_ord = data2[(data2['stationName'] == target_stationName) & (data2['busNumber'] == target_bus) & (data2['stationNumber'] == int(target_arsId))].iloc[0]['ord']\n",
    "print(target_ord) # int"
   ]
  },
  {
   "cell_type": "markdown",
   "metadata": {},
   "source": [
    "### 3) 서울특별시_버스도착정보조회 서비스\n",
    "* 2_getArrInfoByRouteList\n",
    "* **input: stId, busRouteId, ord => output: arrmsg1, arrmsg2** + 이 외 필요한 것들 추가\n",
    "* https://www.data.go.kr/iim/api/selectAPIAcountView.do"
   ]
  },
  {
   "cell_type": "code",
   "execution_count": 9,
   "metadata": {},
   "outputs": [
    {
     "name": "stdout",
     "output_type": "stream",
     "text": [
      "정류소명: 마포역\n",
      "첫 번째 버스: 곧 도착\n",
      "두 번째 버스: 6분47초후[1번째 전]\n",
      "도착 예정 버스 차량 번호: 서울70사6732\n"
     ]
    }
   ],
   "source": [
    "#서울특별시_버스도착정보조회 서비스 中 2_getArrInfoByRouteList\n",
    "key = 'kNSQvU5WeosgTXwCx1mTthdz93%2BlLXHKA7ZtzbuNArBuUVVP4akW5xsfp6R5JYuMH106DwcuJRTqXJHI4q%2BNjA%3D%3D'\n",
    "url = 'http://ws.bus.go.kr/api/rest/arrive/getArrInfoByRoute?ServiceKey={}&stId={}&busRouteId={}&ord={}'.format(key, target_stId, target_busRouteId, target_ord)\n",
    "\n",
    "content = requests.get(url).content\n",
    "dict = xmltodict.parse(content)\n",
    "\n",
    "busstation = json.dumps(dict['ServiceResult']['msgBody']['itemList']['stNm'], ensure_ascii = False)\n",
    "arrival = json.dumps(dict['ServiceResult']['msgBody']['itemList']['arrmsg1'], ensure_ascii = False)\n",
    "arrival2 = json.dumps(dict['ServiceResult']['msgBody']['itemList']['arrmsg2'], ensure_ascii = False)\n",
    "busplainnum = json.dumps(dict['ServiceResult']['msgBody']['itemList']['plainNo1'], ensure_ascii = False)\n",
    "\n",
    "jsonbusstation = json.loads(busstation)\n",
    "jsonarrival = json.loads(arrival)\n",
    "jsonsarrival2 = json.loads(arrival2)\n",
    "jsonsbusplainnum = json.loads(busplainnum)\n",
    "\n",
    "print('정류소명: ' + jsonbusstation)\n",
    "print('첫 번째 버스: ' + jsonarrival)\n",
    "print('두 번째 버스: ' + jsonsarrival2)\n",
    "print('도착 예정 버스 차량 번호: ' + jsonsbusplainnum)"
   ]
  },
  {
   "cell_type": "markdown",
   "metadata": {},
   "source": [
    "#### **필요하다면 다음 정류장 이름도 제시해도됨 -> 방향이 맞는지 다시 한번 확인**\n",
    "-----------------"
   ]
  },
  {
   "cell_type": "markdown",
   "metadata": {},
   "source": [
    "### <문제 해결 방안>\n",
    "#### 1) 서울특별시_노선정보조회 서비스 1_getStaionsByRouteList 이용하여 seq를 ord로 저장하여 직접 DB 구축\n",
    "#### 2) 서울특별시_노선정보조회 서비스 1_getStaionsByRouteList 이용하여 실시간 API 확인하여 seq 추출 -> 계산량 많을듯\n",
    "\n",
    "* 현재로써는 데이터 수집과정은 번거로울 수 있으나 1안 이용해서 직접 DB 구축하는게 좋아보임.  "
   ]
  }
 ],
 "metadata": {
  "kernelspec": {
   "display_name": "pydatavenv",
   "language": "python",
   "name": "pydatavenv"
  },
  "language_info": {
   "codemirror_mode": {
    "name": "ipython",
    "version": 3
   },
   "file_extension": ".py",
   "mimetype": "text/x-python",
   "name": "python",
   "nbconvert_exporter": "python",
   "pygments_lexer": "ipython3",
   "version": "3.8.8"
  }
 },
 "nbformat": 4,
 "nbformat_minor": 4
}
