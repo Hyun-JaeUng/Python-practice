{
 "cells": [
  {
   "cell_type": "code",
   "execution_count": 67,
   "metadata": {},
   "outputs": [
    {
     "name": "stdout",
     "output_type": "stream",
     "text": [
      "[<h1> 태그의 컨텐트] HTML의 링크 태그\n",
      "[텍스트 형식으로 내용을 가지고 있는 <a> 태그의 컨텐트와 href 속성값]\n",
      "World Wide Consortium : http://www.w3.org/\n",
      "Java Page : http://java.sun.com/\n",
      "Python Page : http://www.python.org/\n",
      "Web Client 기술 학습 : http://www.w3schools.com/\n",
      "None : http://java.sun.com/\n",
      "[<img> 태그의 src 속성값] http://unico2013.dothome.co.kr/image/duke.jpg\n",
      "[첫 번째 <h2> 태그의 컨텐트] 좋아하는 색\n",
      "[<ul>태그의 자식 태그들중 style 속성의 값이 green으로 끝나는 태그의 컨텐츠] 녹색\n",
      "[두 번째 <h2>태그의 컨텐츠] 먹고싶은 음식\n",
      "[<ol>태그의 모든 자식 태그들의 컨텐츠] 짜장면\n",
      "냉면\n",
      "돈까스\n",
      "갈비\n",
      "[<table> 태그의 모든 자손 태그들의 커텐츠] \n",
      "둘리또치도우너\n",
      "케라토사우루스타조외계인\n",
      "도봉구 쌍문동아프리카깐따삐아 별\n",
      "\n",
      "[name이라는 클래스 속성을 갖는 <tr> 태그의 컨텐트] 둘리또치도우너\n",
      "[target이라는 아이디 속성을 갖는 <td> 태그의 컨텐츠] 아프리카\n"
     ]
    }
   ],
   "source": [
    "# 파이썬 기반의 정적 수집 실습(2)\n",
    "\n",
    "from bs4 import BeautifulSoup\n",
    "import requests\n",
    "import re\n",
    "\n",
    "req = requests.get('http://unico2013.dothome.co.kr/crawling/exercise_bs.html') \n",
    "req.encoding = 'utf-8'\n",
    "bs = BeautifulSoup(req.text, 'html.parser') # bs 밑에 많은 DOM 객체 생성됨\n",
    "\n",
    "# 1\n",
    "print('[<h1> 태그의 컨텐트]', bs.h1.string)\n",
    "\n",
    "# 2 \n",
    "print('[텍스트 형식으로 내용을 가지고 있는 <a> 태그의 컨텐트와 href 속성값]')\n",
    "atags = bs.find_all('a') # 이터러블한 resultset 객체로 리턴됨.\n",
    "for tag in atags:\n",
    "    print(tag.string, \":\", tag[\"href\"]) \n",
    "\n",
    "# 3\n",
    "print('[<img> 태그의 src 속성값]', bs.img['src'])\n",
    "\n",
    "# 4 \n",
    "print('[첫 번째 <h2> 태그의 컨텐트]', bs.find('h2').string) # find는 첫번째 것만 찾는 것을 이용\n",
    "\n",
    "# 5\n",
    "print(\"[<ul>태그의 자식 태그들중 style 속성의 값이 green으로 끝나는 태그의 컨텐츠]\", bs.ul.find(style=re.compile(\"green$\")).text)\n",
    "# bs.ul.find -> ul의 자손 태그에서 찾아라!, re 모듈 따로 import해야함 (정규표현식)\n",
    "\n",
    "# 6\n",
    "print(\"[두 번째 <h2>태그의 컨텐츠]\", bs.find_all('h2')[1].text) # find_all뒤에 인덱싱 가능함\n",
    "\n",
    "# 7 \n",
    "print(\"[<ol>태그의 모든 자식 태그들의 컨텐츠]\", bs.ol.text.strip()) # strip() 메서드 사용하여 뒤에 공백 제거해주는 것!\n",
    "\n",
    "# 8\n",
    "print(\"[<table> 태그의 모든 자손 태그들의 커텐츠]\", bs.table.text) # 찾아진 태그 객체의 모든 자손에 있는 text 리턴됨. (text)\n",
    "\n",
    "# 9\n",
    "print(\"[name이라는 클래스 속성을 갖는 <tr> 태그의 컨텐트]\", bs.find('tr', class_='name').text)\n",
    "# tr 부터, class뒤에 _ 기억. (언더바)\n",
    "\n",
    "# 10\n",
    "print(\"[target이라는 아이디 속성을 갖는 <td> 태그의 컨텐츠]\", bs.find('td', id='target').text)"
   ]
  }
 ],
 "metadata": {
  "kernelspec": {
   "display_name": "pydatavenv",
   "language": "python",
   "name": "pydatavenv"
  },
  "language_info": {
   "codemirror_mode": {
    "name": "ipython",
    "version": 3
   },
   "file_extension": ".py",
   "mimetype": "text/x-python",
   "name": "python",
   "nbconvert_exporter": "python",
   "pygments_lexer": "ipython3",
   "version": "3.8.8"
  }
 },
 "nbformat": 4,
 "nbformat_minor": 4
}
