{
 "cells": [
  {
   "cell_type": "code",
   "execution_count": 1,
   "metadata": {},
   "outputs": [],
   "source": [
    "import requests, xmltodict, json"
   ]
  },
  {
   "cell_type": "code",
   "execution_count": 2,
   "metadata": {},
   "outputs": [
    {
     "name": "stdout",
     "output_type": "stream",
     "text": [
      "113900018\n",
      "가든호텔.삼성프라자\n",
      "가든호텔.삼성프라자\n"
     ]
    }
   ],
   "source": [
    "tmX = 126.948847\n",
    "tmY = 37.539982\n",
    "radius = 200\n",
    "key = \"AT98N5LWRAir0I67tVgrf6Vfnio9LCMcwusSbOjmdkEpSOGyobdyAq9cb41G6O4pgTp6Jcmpv8e87bplMNY7tQ%3D%3D\"\n",
    "url = f'http://ws.bus.go.kr/api/rest/stationinfo/getStationByPos?ServiceKey={key}&tmX={tmX}&tmY={tmY}&radius={radius}'\n",
    " \n",
    "content = requests.get(url).content\n",
    "dict = xmltodict.parse(content)\n",
    "\n",
    "# 첫번째 정류장이라 설정 (음성으로 확인작업을 할 것인지 이후 결정해야 함)\n",
    "print(dict['ServiceResult']['msgBody']['itemList'][0]['stationId'])\n",
    "print(dict['ServiceResult']['msgBody']['itemList'][0]['stationNm'])\n",
    "\n",
    "jsonString = json.dumps(dict['ServiceResult']['msgBody']['itemList'][0]['stationNm'], ensure_ascii=False)\n",
    "jsonObj = json.loads(jsonString)\n",
    "print(jsonObj)"
   ]
  },
  {
   "cell_type": "code",
   "execution_count": 3,
   "metadata": {},
   "outputs": [
    {
     "name": "stdout",
     "output_type": "stream",
     "text": [
      "03689\n",
      "100100124\n",
      "1\n"
     ]
    }
   ],
   "source": [
    "import requests, xmltodict, json\n",
    "key = 'kNSQvU5WeosgTXwCx1mTthdz93%2BlLXHKA7ZtzbuNArBuUVVP4akW5xsfp6R5JYuMH106DwcuJRTqXJHI4q%2BNjA%3D%3D'\n",
    "busRouteId = 100100124 #x좌표, y좌표 구해지기 이전 임의 지정\n",
    "url = 'http://ws.bus.go.kr/api/rest/busRouteInfo/getStaionByRoute?ServiceKey={}&busRouteId={}'.format(key, busRouteId)\n",
    "\n",
    "content = requests.get(url).content\n",
    "dict = xmltodict.parse(content)\n",
    "staionId = json.dumps(dict['ServiceResult']['msgBody']['itemList'][0]['arsId'], ensure_ascii = False)\n",
    "busRouteId = json.dumps(dict['ServiceResult']['msgBody']['itemList'][0]['busRouteId'], ensure_ascii = False)\n",
    "seq = json.dumps(dict['ServiceResult']['msgBody']['itemList'][0]['seq'], ensure_ascii = False)\n",
    "\n",
    "jsonstaionId = json.loads(staionId)\n",
    "jsonsbusRouteId = json.loads(busRouteId)\n",
    "jsonseq = json.loads(seq)\n",
    "\n",
    "print(jsonstaionId)\n",
    "print(jsonsbusRouteId)\n",
    "print(jsonseq)"
   ]
  },
  {
   "cell_type": "markdown",
   "metadata": {},
   "source": [
    "#결과값\n",
    "03689 #stationId\n",
    "100100124 #busRoutedId\n",
    "1 #seq"
   ]
  }
 ],
 "metadata": {
  "kernelspec": {
   "display_name": "pydatavenv",
   "language": "python",
   "name": "pydatavenv"
  },
  "language_info": {
   "codemirror_mode": {
    "name": "ipython",
    "version": 3
   },
   "file_extension": ".py",
   "mimetype": "text/x-python",
   "name": "python",
   "nbconvert_exporter": "python",
   "pygments_lexer": "ipython3",
   "version": "3.8.8"
  }
 },
 "nbformat": 4,
 "nbformat_minor": 4
}
