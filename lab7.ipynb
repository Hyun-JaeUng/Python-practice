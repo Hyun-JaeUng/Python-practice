{
 "cells": [
  {
   "cell_type": "code",
   "execution_count": 52,
   "metadata": {},
   "outputs": [
    {
     "name": "stdout",
     "output_type": "stream",
     "text": [
      "103 페이지까지 크롤링 종료\n"
     ]
    }
   ],
   "source": [
    "# 파이썬 기반의 동적 수집 실습(3) - 동적 수집 수행평가\n",
    "from selenium import webdriver\n",
    "import re\n",
    "import time\n",
    "\n",
    "# 랜더링\n",
    "driver = webdriver.Chrome('C:/Temp/chromedriver')\n",
    "driver.implicitly_wait(3)\n",
    "driver.get('http://gs25.gsretail.com/gscvs/ko/products/event-goods')\n",
    "time.sleep(3)\n",
    "\n",
    "# 2+1 클릭\n",
    "tobt = driver.find_element_by_css_selector(\"#TWO_TO_ONE\")\n",
    "tobt.click()\n",
    "goodsname = []\n",
    "goodsprice = []\n",
    "page = 1\n",
    "\n",
    "# 동적으로 데이터 수집\n",
    "while True:\n",
    "    for i in range(1,9):\n",
    "        name = driver.find_elements_by_css_selector('#contents div:nth-child(5) > ul > li:nth-child('+str(i)+') > div > p.tit')\n",
    "        price = driver.find_elements_by_css_selector('#contents div:nth-child(5) > ul > li:nth-child('+str(i)+') > div > p.price > span')\n",
    "\n",
    "        for nDom in name:\n",
    "            goodsname.append(nDom.text)\n",
    "\n",
    "        for pDom in price:\n",
    "            p = re.sub(\"[,]|['원']\", \"\", pDom.text)\n",
    "            goodsprice.append(p)\n",
    "    \n",
    "    \n",
    "    nextbt = driver.find_element_by_css_selector('#contents > div.cnt > div.cnt_section.mt50 > div > div > div:nth-child(5) > div > a.next')\n",
    "    nextbt.click()\n",
    "    time.sleep(1)\n",
    "    page = page + 1\n",
    "    check = driver.find_elements_by_css_selector('#contents > div.cnt > div.cnt_section.mt50 > div > div > div:nth-child(5) > div > span > a')\n",
    "    n = (page-1) % 10\n",
    "    try: \n",
    "        int(check[n].text)\n",
    "    except:\n",
    "        print((page-1), \"페이지까지 크롤링 종료\")\n",
    "        break\n",
    "\n",
    "# csv 파일 저장\n",
    "f = open(\"output/gs25_twotoone.csv\", \"w\")\n",
    "f.write('상품명'+','+'가격'+'\\n')\n",
    "for i in range(len(goodsname)):\n",
    "    f.write(goodsname[i]+ ',' + goodsprice[i] + '\\n')    \n",
    "f.close()\n",
    "driver.quit()"
   ]
  },
  {
   "cell_type": "markdown",
   "metadata": {},
   "source": [
    "### 메모\n",
    "\n",
    "#### 마지막 페이지 조건 시 list의 범위가 초과되어 오류가 남 -> try except를 이용하여 루프 탈출 조건 설정함\n",
    "#### csv에서는 데이터의 열 구분을 , 로 행 구분을 \\n로 함!"
   ]
  },
  {
   "cell_type": "markdown",
   "metadata": {},
   "source": [
    "<br>\n",
    "새로운 방법: DataFrame 활용하여 csv 저장!"
   ]
  },
  {
   "cell_type": "code",
   "execution_count": null,
   "metadata": {},
   "outputs": [],
   "source": [
    "# 파이썬 기반의 동적 수집 실습(3) - 동적 수집 수행평가\n",
    "from selenium import webdriver\n",
    "import re\n",
    "import time\n",
    "import pandas as pd\n",
    "\n",
    "# 랜더링\n",
    "driver = webdriver.Chrome('C:/Temp/chromedriver')\n",
    "driver.implicitly_wait(3)\n",
    "driver.get('http://gs25.gsretail.com/gscvs/ko/products/event-goods')\n",
    "time.sleep(3)\n",
    "\n",
    "# 2+1 클릭\n",
    "tobt = driver.find_element_by_css_selector(\"#TWO_TO_ONE\")\n",
    "tobt.click()\n",
    "goodsname = []\n",
    "goodsprice = []\n",
    "page = 1\n",
    "\n",
    "# 동적으로 데이터 수집\n",
    "while True:\n",
    "    for i in range(1,9):\n",
    "        name = driver.find_elements_by_css_selector('#contents div:nth-child(5) > ul > li:nth-child('+str(i)+') > div > p.tit')\n",
    "        price = driver.find_elements_by_css_selector('#contents div:nth-child(5) > ul > li:nth-child('+str(i)+') > div > p.price > span')\n",
    "\n",
    "        for nDom in name:\n",
    "            goodsname.append(nDom.text)\n",
    "\n",
    "        for pDom in price:\n",
    "            p = re.sub(\"[,]|['원']\", \"\", pDom.text)\n",
    "            goodsprice.append(p)\n",
    "    \n",
    "    \n",
    "    nextbt = driver.find_element_by_css_selector('#contents > div.cnt > div.cnt_section.mt50 > div > div > div:nth-child(5) > div > a.next')\n",
    "    nextbt.click()\n",
    "    time.sleep(1)\n",
    "    page = page + 1\n",
    "    check = driver.find_elements_by_css_selector('#contents > div.cnt > div.cnt_section.mt50 > div > div > div:nth-child(5) > div > span > a')\n",
    "    n = (page-1) % 10\n",
    "    try: \n",
    "        int(check[n].text)\n",
    "    except:\n",
    "        print((page-1), \"페이지까지 크롤링 종료\")\n",
    "        break\n",
    "\n",
    "# df이용하여 csv 파일 저장\n",
    "df7 = (pd.DataFrame([goodsname, goodsprice])).T\n",
    "df7.columns = ['상품명', '가격']\n",
    "display(df7)\n",
    "df7.to_csv(\"output/gs25_twotoone_new.csv\", encoding=\"utf-8-sig\")\n",
    "driver.quit()"
   ]
  }
 ],
 "metadata": {
  "kernelspec": {
   "display_name": "pydatavenv",
   "language": "python",
   "name": "pydatavenv"
  },
  "language_info": {
   "codemirror_mode": {
    "name": "ipython",
    "version": 3
   },
   "file_extension": ".py",
   "mimetype": "text/x-python",
   "name": "python",
   "nbconvert_exporter": "python",
   "pygments_lexer": "ipython3",
   "version": "3.8.8"
  }
 },
 "nbformat": 4,
 "nbformat_minor": 4
}
